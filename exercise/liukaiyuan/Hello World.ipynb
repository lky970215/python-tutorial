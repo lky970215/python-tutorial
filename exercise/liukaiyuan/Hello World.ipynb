{
  "nbformat": 4,
  "nbformat_minor": 0,
  "metadata": {
    "colab": {
      "provenance": [],
      "authorship_tag": "ABX9TyO1YgcnlpmW26PliEfzCO+X",
      "include_colab_link": true
    },
    "kernelspec": {
      "name": "python3",
      "display_name": "Python 3"
    },
    "language_info": {
      "name": "python"
    }
  },
  "cells": [
    {
      "cell_type": "markdown",
      "metadata": {
        "id": "view-in-github",
        "colab_type": "text"
      },
      "source": [
        "<a href=\"https://colab.research.google.com/github/lky970215/python-tutorial/blob/main/exercise/liukaiyuan/Hello%20World.ipynb\" target=\"_parent\"><img src=\"https://colab.research.google.com/assets/colab-badge.svg\" alt=\"Open In Colab\"/></a>"
      ]
    },
    {
      "cell_type": "code",
      "execution_count": 5,
      "metadata": {
        "id": "49d8koJsQDWd"
      },
      "outputs": [],
      "source": [
        "# @title\n",
        "#Hello World\n",
        "\n",
        "#Hello world"
      ]
    },
    {
      "cell_type": "code",
      "source": [
        "\n"
      ],
      "metadata": {
        "id": "If4nXgxPQs81"
      },
      "execution_count": 5,
      "outputs": []
    }
  ]
}